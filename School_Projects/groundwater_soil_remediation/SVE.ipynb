{
 "cells": [
  {
   "attachments": {},
   "cell_type": "markdown",
   "metadata": {},
   "source": [
    "# GWSR Project"
   ]
  },
  {
   "cell_type": "code",
   "execution_count": 1123,
   "metadata": {},
   "outputs": [],
   "source": [
    "import numpy as np\n",
    "import pandas as pd\n",
    "import matplotlib.pyplot as plt\n",
    "from tqdm import tqdm\n",
    "\n",
    "import DirtCake as DC"
   ]
  },
  {
   "attachments": {},
   "cell_type": "markdown",
   "metadata": {},
   "source": [
    "## Soil Vapor Extraction"
   ]
  },
  {
   "attachments": {},
   "cell_type": "markdown",
   "metadata": {},
   "source": [
    "First we need to input the assumed parameters or given parameters"
   ]
  },
  {
   "cell_type": "code",
   "execution_count": 1124,
   "metadata": {},
   "outputs": [],
   "source": [
    "# assumed\n",
    "R_well = 0.15 # [m]\n",
    "R_inf = 7.5 # [m]\n",
    "Pw = 0.9*101325 # [Pa]\n",
    "temperature = 15 # C\n",
    "\n",
    "# given\n",
    "K = (2e-4 +1.8e-3)/2 # [m/s]\n",
    "u_water = 8.891e-4 # [Ns/m^2]\n",
    "g = 9.81 # [m/s^2]\n",
    "den_water = 997 # [kg/m^3]\n",
    "k = K*u_water/g/den_water # [m^2]\n",
    "u_air = 1.8e-5 #\n",
    "\n"
   ]
  },
  {
   "cell_type": "code",
   "execution_count": 1125,
   "metadata": {},
   "outputs": [
    {
     "data": {
      "text/plain": [
       "9.090472232190966e-11"
      ]
     },
     "execution_count": 1125,
     "metadata": {},
     "output_type": "execute_result"
    }
   ],
   "source": [
    "k"
   ]
  },
  {
   "attachments": {},
   "cell_type": "markdown",
   "metadata": {},
   "source": [
    "Next we need to obtain a dictionary of compound data. The formula to calculate vapour pressure at a temperature is log10(P) = A-(B/(T+C)) where T is in K and Pressure is in bar"
   ]
  },
  {
   "cell_type": "code",
   "execution_count": 1126,
   "metadata": {},
   "outputs": [],
   "source": [
    "def get_vap(A, B, C, T):\n",
    "    logP = A-(B/(T+C))\n",
    "    P_bar = 10**logP\n",
    "    P_pa = P_bar*100000\n",
    "    return P_pa\n",
    "\n",
    "def get_KH(KH_i, T_i, T_f):\n",
    "    return KH_i*1.048**(T_f-T_i)"
   ]
  },
  {
   "cell_type": "code",
   "execution_count": 1127,
   "metadata": {},
   "outputs": [
    {
     "data": {
      "text/html": [
       "<div>\n",
       "<style scoped>\n",
       "    .dataframe tbody tr th:only-of-type {\n",
       "        vertical-align: middle;\n",
       "    }\n",
       "\n",
       "    .dataframe tbody tr th {\n",
       "        vertical-align: top;\n",
       "    }\n",
       "\n",
       "    .dataframe thead th {\n",
       "        text-align: right;\n",
       "    }\n",
       "</style>\n",
       "<table border=\"1\" class=\"dataframe\">\n",
       "  <thead>\n",
       "    <tr style=\"text-align: right;\">\n",
       "      <th></th>\n",
       "      <th>Compound</th>\n",
       "      <th>molar</th>\n",
       "      <th>KH</th>\n",
       "      <th>KH_T_C</th>\n",
       "      <th>KD</th>\n",
       "      <th>A</th>\n",
       "      <th>B</th>\n",
       "      <th>C</th>\n",
       "      <th>val</th>\n",
       "    </tr>\n",
       "  </thead>\n",
       "  <tbody>\n",
       "    <tr>\n",
       "      <th>0</th>\n",
       "      <td>vinyl chloride</td>\n",
       "      <td>62.498</td>\n",
       "      <td>0.501187</td>\n",
       "      <td>10</td>\n",
       "      <td>8.15</td>\n",
       "      <td>3.98598</td>\n",
       "      <td>892.757</td>\n",
       "      <td>-35.051</td>\n",
       "      <td>NaN</td>\n",
       "    </tr>\n",
       "    <tr>\n",
       "      <th>1</th>\n",
       "      <td>1,2-dichloroethane</td>\n",
       "      <td>98.959</td>\n",
       "      <td>0.010000</td>\n",
       "      <td>10</td>\n",
       "      <td>12.95</td>\n",
       "      <td>4.58518</td>\n",
       "      <td>1521.789</td>\n",
       "      <td>-24.670</td>\n",
       "      <td>NaN</td>\n",
       "    </tr>\n",
       "    <tr>\n",
       "      <th>2</th>\n",
       "      <td>5-CAT</td>\n",
       "      <td>141.598</td>\n",
       "      <td>0.000081</td>\n",
       "      <td>25</td>\n",
       "      <td>48.90</td>\n",
       "      <td>NaN</td>\n",
       "      <td>NaN</td>\n",
       "      <td>NaN</td>\n",
       "      <td>5.5</td>\n",
       "    </tr>\n",
       "    <tr>\n",
       "      <th>3</th>\n",
       "      <td>cis-1,2-dichloroethene</td>\n",
       "      <td>96.943</td>\n",
       "      <td>0.079433</td>\n",
       "      <td>10</td>\n",
       "      <td>13.25</td>\n",
       "      <td>4.06900</td>\n",
       "      <td>1163.729</td>\n",
       "      <td>-47.174</td>\n",
       "      <td>NaN</td>\n",
       "    </tr>\n",
       "    <tr>\n",
       "      <th>4</th>\n",
       "      <td>trichlorethene</td>\n",
       "      <td>131.388</td>\n",
       "      <td>0.125893</td>\n",
       "      <td>10</td>\n",
       "      <td>20.45</td>\n",
       "      <td>3.55346</td>\n",
       "      <td>974.538</td>\n",
       "      <td>-85.811</td>\n",
       "      <td>NaN</td>\n",
       "    </tr>\n",
       "  </tbody>\n",
       "</table>\n",
       "</div>"
      ],
      "text/plain": [
       "                 Compound    molar        KH  KH_T_C     KD        A  \\\n",
       "0          vinyl chloride   62.498  0.501187      10   8.15  3.98598   \n",
       "1      1,2-dichloroethane   98.959  0.010000      10  12.95  4.58518   \n",
       "2                   5-CAT  141.598  0.000081      25  48.90      NaN   \n",
       "3  cis-1,2-dichloroethene   96.943  0.079433      10  13.25  4.06900   \n",
       "4          trichlorethene  131.388  0.125893      10  20.45  3.55346   \n",
       "\n",
       "          B       C  val  \n",
       "0   892.757 -35.051  NaN  \n",
       "1  1521.789 -24.670  NaN  \n",
       "2       NaN     NaN  5.5  \n",
       "3  1163.729 -47.174  NaN  \n",
       "4   974.538 -85.811  NaN  "
      ]
     },
     "metadata": {},
     "output_type": "display_data"
    }
   ],
   "source": [
    "comp_data = pd.read_csv('./params.csv')\n",
    "display(comp_data.head())\n",
    "\n",
    "compound_dict = {}\n",
    "for _, row in comp_data.iterrows():\n",
    "    temp_dict = {}\n",
    "    temp_dict['KH'] = get_KH(row.KH, row.KH_T_C, temperature)\n",
    "    temp_dict['KD'] = row.KD\n",
    "    temp_dict['molar'] = row.molar\n",
    "    if np.isnan(row.val):\n",
    "        temp_dict['P_vap'] = get_vap(row.A, row.B, row.C, 25+273)\n",
    "    else:\n",
    "        temp_dict['P_vap'] = row.val\n",
    "    compound_dict[row.Compound] = temp_dict\n"
   ]
  },
  {
   "attachments": {},
   "cell_type": "markdown",
   "metadata": {},
   "source": [
    "Now to read the csv with all of the data for each stage and level"
   ]
  },
  {
   "cell_type": "code",
   "execution_count": null,
   "metadata": {},
   "outputs": [],
   "source": [
    "sve = pd.read_csv('./SVE_data_translated.csv')\n",
    "sve.head()"
   ]
  },
  {
   "cell_type": "code",
   "execution_count": 1129,
   "metadata": {},
   "outputs": [],
   "source": [
    "row = sve.loc[10,sve.columns]\n",
    "test = DC.DirtLayer(R_inf=R_inf, R_well=R_well, H=row.screen_length, depth = row.depth_bottom-row.depth_top, \n",
    "                    density=row.density, por=row.porosity, por_water=row.por_water, temp=temperature+273, k=k, u=u_air, \n",
    "                    Pw = Pw, intial_concs=row[17:-3].to_dict(), compound_data=compound_dict)"
   ]
  },
  {
   "cell_type": "code",
   "execution_count": 1130,
   "metadata": {},
   "outputs": [
    {
     "data": {
      "text/plain": [
       "1,4-dichlorobenzene        0.847429\n",
       "chlorobenzene             49.918429\n",
       "vinyl chloride                0.705\n",
       "cis-1,2-dichloroethene    27.648357\n",
       "trichlorethene             212.3445\n",
       "Name: 10, dtype: object"
      ]
     },
     "execution_count": 1130,
     "metadata": {},
     "output_type": "execute_result"
    }
   ],
   "source": [
    "row[17:-3]"
   ]
  },
  {
   "cell_type": "code",
   "execution_count": 1131,
   "metadata": {},
   "outputs": [],
   "source": [
    "data_collection = {}\n",
    "for _, group in sve.groupby('stage'):\n",
    "    levels = []\n",
    "    stg = group.loc[group.index[0],'stage']\n",
    "    for _, row in group.iterrows():\n",
    "        obj = DC.DirtLayer(R_inf=R_inf, R_well=R_well, H=row.screen_length, depth = row.depth_bottom-row.depth_top, \n",
    "                    density=row.density, por=row.porosity, por_water=row.por_water, temp=temperature+273, k=k, u=u_air, \n",
    "                    Pw = Pw, intial_concs=row[16:-2].to_dict(), compound_data=compound_dict)\n",
    "        obj.SVE(365*25, 1)\n",
    "        levels.append([obj.results,obj.Q, obj.dt])\n",
    "    data_collection[stg] = levels"
   ]
  },
  {
   "attachments": {},
   "cell_type": "markdown",
   "metadata": {},
   "source": [
    "now to find out when we beat the regulated values. The data collection is a dictionary holding stages that have a list and a flow rate, the list contains the levels for the stage and their results"
   ]
  },
  {
   "cell_type": "code",
   "execution_count": 1132,
   "metadata": {},
   "outputs": [],
   "source": [
    "reg_vals = np.array([0.15, 5000, 5000, 0.3, 7, 30, 0.5])\n",
    "SF = 1.25"
   ]
  },
  {
   "cell_type": "code",
   "execution_count": 1133,
   "metadata": {},
   "outputs": [
    {
     "name": "stderr",
     "output_type": "stream",
     "text": [
      "100%|██████████| 6/6 [00:00<00:00, 120.12it/s]\n"
     ]
    }
   ],
   "source": [
    "beat_times = []\n",
    "compound_names = sve.columns[16:-2]\n",
    "\n",
    "for stage, levels in tqdm(data_collection.items()):\n",
    "    for (level, _,_), j in zip(levels,range(len(levels))):\n",
    "        for i in range(len(reg_vals)):\n",
    "            new_row = {}\n",
    "            t = np.argwhere(level[1,i,:]<(reg_vals[i]/SF))\n",
    "            idx = t[0][0] if len(t)>0 else -1\n",
    "            if idx == 0:\n",
    "                t_99 = np.argwhere(level[1,i,:]<0.1)\n",
    "                idx_99 = t_99[0][0] if len(t_99) >0 else -2\n",
    "            else:\n",
    "                t_99 = -1\n",
    "            new_row['stage'] = stage\n",
    "            new_row['level'] = j\n",
    "            new_row['time'] = idx\n",
    "            new_row['time_99'] = idx_99\n",
    "            new_row['compound'] = compound_names[i]\n",
    "            beat_times.append(new_row)\n"
   ]
  },
  {
   "cell_type": "code",
   "execution_count": null,
   "metadata": {},
   "outputs": [],
   "source": [
    "df = pd.DataFrame(beat_times)\n",
    "df.head()"
   ]
  },
  {
   "cell_type": "code",
   "execution_count": 1136,
   "metadata": {},
   "outputs": [
    {
     "data": {
      "text/plain": [
       "0.7642146007254128"
      ]
     },
     "execution_count": 1136,
     "metadata": {},
     "output_type": "execute_result"
    }
   ],
   "source": [
    "data_collection[2][0][0][1,1,-1]"
   ]
  },
  {
   "cell_type": "code",
   "execution_count": 1137,
   "metadata": {},
   "outputs": [
    {
     "data": {
      "text/plain": [
       "{'KH': 0.012641727168839684,\n",
       " 'KD': 12.95,\n",
       " 'molar': 98.959,\n",
       " 'P_vap': 10413.371706767806}"
      ]
     },
     "execution_count": 1137,
     "metadata": {},
     "output_type": "execute_result"
    }
   ],
   "source": [
    "compound_dict['1,2-dichloroethane']"
   ]
  },
  {
   "attachments": {},
   "cell_type": "markdown",
   "metadata": {},
   "source": [
    "## Activated Carbon 1"
   ]
  },
  {
   "attachments": {},
   "cell_type": "markdown",
   "metadata": {},
   "source": [
    "now we need to see how much flow rate we have to estimate the area needed. first we need to make dictionary with keys that lead to the number of wells for each stage"
   ]
  },
  {
   "cell_type": "code",
   "execution_count": 1138,
   "metadata": {},
   "outputs": [],
   "source": [
    "well_dict = {}\n",
    "\n",
    "for idx, group in sve.groupby('stage'):\n",
    "    well_dict[group.stage.values[0]] = group.wells.values[0]"
   ]
  },
  {
   "cell_type": "code",
   "execution_count": null,
   "metadata": {},
   "outputs": [],
   "source": [
    "flow_data =[]\n",
    "for stage, item in data_collection.items():\n",
    "    new_row ={}\n",
    "    stage_well_flow = 0\n",
    "    for [dataset, flow, dt] in item:\n",
    "        stage_well_flow += flow\n",
    "    new_row['stage'] = stage\n",
    "    new_row['flow'] = stage_well_flow *well_dict[stage]\n",
    "    new_row['dt'] = dt\n",
    "    flow_data.append(new_row)\n",
    "\n",
    "flow_df = pd.DataFrame(flow_data)\n",
    "flow_df"
   ]
  },
  {
   "cell_type": "code",
   "execution_count": 1140,
   "metadata": {},
   "outputs": [
    {
     "data": {
      "text/plain": [
       "2008063.2247198483"
      ]
     },
     "execution_count": 1140,
     "metadata": {},
     "output_type": "execute_result"
    }
   ],
   "source": [
    "total_Q = flow_df.flow.sum() # [m^3/day]\n",
    "total_Q"
   ]
  },
  {
   "attachments": {},
   "cell_type": "markdown",
   "metadata": {},
   "source": [
    "assume a bed length of 6m and now that we have the total flow we can figure out a bed area that is required to acheive"
   ]
  },
  {
   "cell_type": "code",
   "execution_count": 1141,
   "metadata": {},
   "outputs": [
    {
     "data": {
      "text/plain": [
       "5.2"
      ]
     },
     "execution_count": 1141,
     "metadata": {},
     "output_type": "execute_result"
    }
   ],
   "source": [
    "bedL = 6 # [m]\n",
    "v0 = 0.275*60*60*24 # [m/s] -> m/day\n",
    "bed_area = total_Q/v0 # [m^3/day]/m*day -> [m^2]\n",
    "bed_rad = np.ceil(10*(bed_area/np.pi)**0.5)/10\n",
    "bed_rad"
   ]
  },
  {
   "cell_type": "code",
   "execution_count": 1142,
   "metadata": {},
   "outputs": [
    {
     "data": {
      "text/plain": [
       "2.4"
      ]
     },
     "execution_count": 1142,
     "metadata": {},
     "output_type": "execute_result"
    }
   ],
   "source": [
    "np.ceil(10*(bed_area/5/np.pi)**0.5)/10"
   ]
  },
  {
   "cell_type": "code",
   "execution_count": 1143,
   "metadata": {},
   "outputs": [
    {
     "data": {
      "text/plain": [
       "203876.79684736324"
      ]
     },
     "execution_count": 1143,
     "metadata": {},
     "output_type": "execute_result"
    }
   ],
   "source": [
    "GAC_m = bedL*np.pi*bed_rad**2 *400 # 400 is bulk density of GAC from lecture slide 44\n",
    "GAC_m # [kg]"
   ]
  },
  {
   "attachments": {},
   "cell_type": "markdown",
   "metadata": {},
   "source": [
    "now to find out how much contaminant each filter can hold if TCE is the main contaminant"
   ]
  },
  {
   "cell_type": "code",
   "execution_count": 1144,
   "metadata": {},
   "outputs": [],
   "source": [
    "Ka = 81076\n",
    "nf_inv = 0.526\n",
    "Kdes = 79.8\n",
    "nfd_inv = 1\n",
    "Ce = 2.3e-3/1000 # [mg/m^3]*[1m^3/1000l] -> [mg/l]\n",
    "\n",
    "ad_ratio = Ka*Ce**nf_inv\n",
    "des_ratio = Kdes*Ce**nfd_inv\n",
    "\n",
    "gac_ratio_tce = ad_ratio-des_ratio #[mg/kg]"
   ]
  },
  {
   "attachments": {},
   "cell_type": "markdown",
   "metadata": {},
   "source": [
    "and what if chlorobenzene is the main contaminant"
   ]
  },
  {
   "cell_type": "code",
   "execution_count": 1145,
   "metadata": {},
   "outputs": [],
   "source": [
    "qs = 187.2 # [mg/g]\n",
    "Kl = 27.88e-4 # [ppm^-1]\n",
    "C_chloro = 1 *24.45/compound_dict['chlorobenzene']['molar'] # ug/m^3 -> ppm\n",
    "gac_ratio_chloro = qs*Kl*C_chloro/(1+Kl*C_chloro)"
   ]
  },
  {
   "cell_type": "code",
   "execution_count": 1146,
   "metadata": {},
   "outputs": [
    {
     "name": "stdout",
     "output_type": "stream",
     "text": [
      "13414957.844218448\n",
      "17324914.33775651\n"
     ]
    }
   ],
   "source": [
    "print(gac_ratio_tce*GAC_m*0.75) # [mg/kg]*[kg]\n",
    "print(gac_ratio_chloro*1000*GAC_m*0.75) # [mg/g]*[1000g/1kg]*[kg]"
   ]
  },
  {
   "cell_type": "code",
   "execution_count": 1147,
   "metadata": {},
   "outputs": [
    {
     "data": {
      "text/plain": [
       "113.30316220815249"
      ]
     },
     "execution_count": 1147,
     "metadata": {},
     "output_type": "execute_result"
    }
   ],
   "source": [
    "gac_ratio_chloro*1000"
   ]
  },
  {
   "attachments": {},
   "cell_type": "markdown",
   "metadata": {},
   "source": [
    "for now we need to get the contaminant concentrations at each timestep to determine if our break through time makes sense. the order of axes is stage, contaminant, time"
   ]
  },
  {
   "cell_type": "code",
   "execution_count": 1148,
   "metadata": {},
   "outputs": [],
   "source": [
    "conc_arr = np.zeros((7,item[0][0].shape[1],item[0][0].shape[2]))\n",
    "for stage, item in data_collection.items():\n",
    "    conc_temp = np.zeros(item[0][0].shape[1:])\n",
    "    for [dataset, flow, dt] in item:\n",
    "        conc_temp += dataset[8,:,:]\n",
    "    conc_temp*well_dict[stage]\n",
    "    conc_arr[stage-1,:,:] = conc_temp\n",
    "\n",
    "conc_arr[6,:,:] = conc_arr[:6,:,:].sum(axis=0)"
   ]
  },
  {
   "cell_type": "code",
   "execution_count": 1149,
   "metadata": {},
   "outputs": [
    {
     "data": {
      "text/plain": [
       "<matplotlib.legend.Legend at 0x14234b884f0>"
      ]
     },
     "execution_count": 1149,
     "metadata": {},
     "output_type": "execute_result"
    },
    {
     "data": {
      "image/png": "[encoded data removed]",
      "text/plain": [
       "<Figure size 800x400 with 1 Axes>"
      ]
     },
     "metadata": {},
     "output_type": "display_data"
    }
   ],
   "source": [
    "conc_arr_combined = conc_arr.sum(axis=0)\n",
    "conc_arr_combined.shape\n",
    "years = np.linspace(0,(conc_arr_combined.shape[1]-1)/365,conc_arr_combined.shape[1]-1)\n",
    "plt.figure(figsize=(8,4))\n",
    "for i in range(conc_arr_combined.shape[0]):\n",
    "    plt.plot(years, conc_arr_combined[i,:-1]/3600/24, label=compound_names[i])\n",
    "\n",
    "plt.plot(years, conc_arr_combined[:,:-1].sum(axis=0)/3600/24, label='total', color='k')\n",
    "plt.xlabel('Years')\n",
    "plt.ylabel('Mass Flow Rate [mg/s]')\n",
    "plt.legend()\n",
    "#conc_arr.sum(axis=0).sum(axis=0)"
   ]
  },
  {
   "cell_type": "code",
   "execution_count": 1150,
   "metadata": {},
   "outputs": [
    {
     "data": {
      "text/plain": [
       "[34,\n",
       " 72,\n",
       " 113,\n",
       " 156,\n",
       " 202,\n",
       " 251,\n",
       " 304,\n",
       " 361,\n",
       " 423,\n",
       " 491,\n",
       " 566,\n",
       " 649,\n",
       " 742,\n",
       " 847,\n",
       " 967,\n",
       " 1107,\n",
       " 1273,\n",
       " 1459,\n",
       " 1645,\n",
       " 1870,\n",
       " 2148,\n",
       " 2502,\n",
       " 2969,\n",
       " 3620,\n",
       " 4621,\n",
       " 6580]"
      ]
     },
     "execution_count": 1150,
     "metadata": {},
     "output_type": "execute_result"
    }
   ],
   "source": [
    "total_gas_flow = conc_arr_combined.sum(axis=0)\n",
    "filter_data = []\n",
    "gac_adsorp_chloro = gac_ratio_chloro*1000*GAC_m*0.75\n",
    "gac_adsorp_tce = gac_ratio_tce*GAC_m*0.75\n",
    "filter_mass = 0\n",
    "for i in range(len(total_gas_flow)):\n",
    "    if i<4*365:\n",
    "        full = gac_adsorp_chloro\n",
    "    else:\n",
    "        full = gac_adsorp_tce\n",
    "    \n",
    "    filter_mass+=total_gas_flow[i]*1.15\n",
    "    if filter_mass>full:\n",
    "        filter_data.append(i-1)\n",
    "        filter_mass=0\n",
    "\n",
    "    \n",
    "filter_data"
   ]
  },
  {
   "cell_type": "code",
   "execution_count": 1151,
   "metadata": {},
   "outputs": [
    {
     "data": {
      "text/plain": [
       "Index(['1,2-dichloroethane', '1,4-dichlorobenzene', 'chlorobenzene',\n",
       "       'vinyl chloride', 'cis-1,2-dichloroethene', 'trichlorethene', '5-CAT'],\n",
       "      dtype='object')"
      ]
     },
     "execution_count": 1151,
     "metadata": {},
     "output_type": "execute_result"
    }
   ],
   "source": [
    "compound_names"
   ]
  },
  {
   "attachments": {},
   "cell_type": "markdown",
   "metadata": {},
   "source": [
    "Time to export some data"
   ]
  },
  {
   "cell_type": "code",
   "execution_count": 1152,
   "metadata": {},
   "outputs": [],
   "source": [
    "mapper = {\n",
    "    0:compound_names[0],\n",
    "    1:compound_names[1],\n",
    "    2:compound_names[2],\n",
    "    3:compound_names[3],\n",
    "    4:compound_names[4],\n",
    "    5:compound_names[5],\n",
    "    6:compound_names[6],\n",
    "\n",
    "}\n",
    "for stage, item in data_collection.items():\n",
    "    stageframe = []\n",
    "    for [dataset, flow, dt] in item:\n",
    "        stageframe.append(pd.DataFrame(dataset[1,:,-1]).to_dict()[0])\n",
    "    pd.DataFrame(stageframe).rename(columns=mapper).to_csv(f'./sve_2/{stage}.csv')"
   ]
  },
  {
   "attachments": {},
   "cell_type": "markdown",
   "metadata": {},
   "source": [
    "## Slurry Data"
   ]
  },
  {
   "attachments": {},
   "cell_type": "markdown",
   "metadata": {},
   "source": [
    "need to get a weighted average of the soil porosity and bulk density for Rosa"
   ]
  },
  {
   "cell_type": "code",
   "execution_count": null,
   "metadata": {},
   "outputs": [],
   "source": [
    "excavate = pd.read_csv('./excavate.csv')\n",
    "excavate"
   ]
  },
  {
   "attachments": {},
   "cell_type": "markdown",
   "metadata": {},
   "source": [
    "we also need to get porosity data as well as bulk density data"
   ]
  },
  {
   "cell_type": "code",
   "execution_count": null,
   "metadata": {},
   "outputs": [],
   "source": [
    "horizon_0 = sve[sve.level == 0]\n",
    "display(horizon_0.head())\n",
    "print(horizon_0.columns)"
   ]
  },
  {
   "attachments": {},
   "cell_type": "markdown",
   "metadata": {},
   "source": [
    "let's get the 5-CAT concetrations from the top stages. Datacollection is in stage, level, datatype"
   ]
  },
  {
   "cell_type": "code",
   "execution_count": 1155,
   "metadata": {},
   "outputs": [
    {
     "name": "stdout",
     "output_type": "stream",
     "text": [
      "0.013115592945808094\n",
      "0.05246236978465808\n",
      "0.03934677783813712\n",
      "0.08266830127757004\n",
      "2.3120290824773875\n",
      "0.018737226732669376\n"
     ]
    }
   ],
   "source": [
    "for i in range(1,7,1):\n",
    "    print(data_collection[i][0][0][1,-1,-1])"
   ]
  },
  {
   "cell_type": "code",
   "execution_count": 1156,
   "metadata": {},
   "outputs": [],
   "source": [
    "average_den = sve[sve.stage==6].density.mean()\n",
    "average_por = sve[sve.stage==6].porosity.mean()\n",
    "\n",
    "bis_m = 0\n",
    "soil_m = 0\n",
    "for _, row in sve[sve.stage == 6].iterrows():\n",
    "    bis_m += row.loc['bisphenol A'] * row.loc['soil mass']   # [mg/kg] -> [mg]\n",
    "    soil_m += row.loc['soil mass']\n",
    "\n",
    "bis_m += horizon_0[horizon_0.stage == 4].loc[:,'bisphenol A'].values[0] * horizon_0[horizon_0.stage == 4].loc[:,'soil mass'].values[0]\n",
    "soil_m += horizon_0[horizon_0.stage == 4].loc[:,'soil mass'].values[0]\n",
    "\n",
    "bis_m += horizon_0[horizon_0.stage == 5].loc[:,'bisphenol A'].values[0] * horizon_0[horizon_0.stage == 4].loc[:,'soil mass'].values[0]\n",
    "soil_m += horizon_0[horizon_0.stage == 5].loc[:,'soil mass'].values[0]\n",
    "\n",
    "bis_m += excavate[excavate.Sector==1].bisphenol_A.values[0]*1000*1000 # kg -> mg\n",
    "soil_m += excavate[excavate.Sector==1].area.values[0] *5 *average_den\n"
   ]
  },
  {
   "cell_type": "code",
   "execution_count": 1157,
   "metadata": {},
   "outputs": [
    {
     "name": "stdout",
     "output_type": "stream",
     "text": [
      "353.7225491677136\n",
      "1809.1068093333333\n",
      "0.33721873799999996\n",
      "22128319.77143333\n"
     ]
    }
   ],
   "source": [
    "\n",
    "\n",
    "print(bis_m/soil_m)\n",
    "print(average_den)\n",
    "print(average_por)\n",
    "print(soil_m)"
   ]
  },
  {
   "cell_type": "code",
   "execution_count": 1166,
   "metadata": {},
   "outputs": [
    {
     "data": {
      "text/plain": [
       "62984436.909696504"
      ]
     },
     "execution_count": 1166,
     "metadata": {},
     "output_type": "execute_result"
    }
   ],
   "source": [
    "soil_m/average_den +soil_m/0.2"
   ]
  },
  {
   "cell_type": "code",
   "execution_count": 1158,
   "metadata": {},
   "outputs": [
    {
     "data": {
      "text/plain": [
       "{'KH': 5.087187198586808e-10,\n",
       " 'KD': 72.35,\n",
       " 'molar': 228.2863,\n",
       " 'P_vap': 4.631795427897003e-05}"
      ]
     },
     "execution_count": 1158,
     "metadata": {},
     "output_type": "execute_result"
    }
   ],
   "source": [
    "compound_dict['bisphenol A']"
   ]
  },
  {
   "cell_type": "code",
   "execution_count": 1159,
   "metadata": {},
   "outputs": [
    {
     "data": {
      "text/plain": [
       "Index(['1,2-dichloroethane', '1,4-dichlorobenzene', 'chlorobenzene',\n",
       "       'vinyl chloride', 'cis-1,2-dichloroethene', 'trichlorethene', '5-CAT'],\n",
       "      dtype='object')"
      ]
     },
     "execution_count": 1159,
     "metadata": {},
     "output_type": "execute_result"
    }
   ],
   "source": [
    "compound_names"
   ]
  },
  {
   "cell_type": "code",
   "execution_count": 1160,
   "metadata": {},
   "outputs": [],
   "source": [
    "average_den = sve[(sve.stage==5)&(sve.level<6)].density.mean()\n",
    "average_por = sve[(sve.stage==5)&(sve.level<6)].porosity.mean()\n",
    "\n",
    "average_den_4 = sve[sve.stage==4].density.mean()\n",
    "\n",
    "cat_m =0\n",
    "dichloro_m = 0\n",
    "soil_m = 0\n",
    "\n",
    "for i in range(1,6,1):\n",
    "    dichloro_m += data_collection[5][i][0][1,0,-1]*sve[(sve.stage == 5) & (sve.level == i)].loc[:,'soil mass'].values[0]\n",
    "    soil_m += sve[(sve.stage == 5) & (sve.level == i)].loc[:,'soil mass'].values[0]\n",
    "    cat_m += data_collection[5][i][0][1,6,-1]*sve[(sve.stage == 5) & (sve.level == i)].loc[:,'soil mass'].values[0]\n",
    "\n",
    "dichloro_m += data_collection[4][4][0][1,0,-1]*sve[(sve.stage == 4) & (sve.level == 4)].loc[:,'soil mass'].values[0]\n",
    "dichloro_m += data_collection[4][5][0][1,0,-1]*sve[(sve.stage == 4) & (sve.level == 5)].loc[:,'soil mass'].values[0]\n",
    "\n",
    "soil_m += excavate[excavate.Sector == 4].loc[:,'width'].values[0]*5*15*average_den_4"
   ]
  },
  {
   "cell_type": "code",
   "execution_count": 1161,
   "metadata": {},
   "outputs": [
    {
     "data": {
      "text/plain": [
       "{'KH': 0.012641727168839684,\n",
       " 'KD': 12.95,\n",
       " 'molar': 98.959,\n",
       " 'P_vap': 10413.371706767806}"
      ]
     },
     "execution_count": 1161,
     "metadata": {},
     "output_type": "execute_result"
    }
   ],
   "source": [
    "compound_dict['1,2-dichloroethane']"
   ]
  },
  {
   "cell_type": "code",
   "execution_count": 1162,
   "metadata": {},
   "outputs": [
    {
     "name": "stdout",
     "output_type": "stream",
     "text": [
      "1822.3633945000001\n",
      "0.3289114393333334\n",
      "2.524136616751824\n",
      "0.4316729856123646\n",
      "12595505.055550002\n"
     ]
    }
   ],
   "source": [
    "print(average_den)\n",
    "print(average_por)\n",
    "print(cat_m/soil_m)\n",
    "print(dichloro_m/soil_m)\n",
    "print(soil_m)"
   ]
  }
 ],
 "metadata": {
  "kernelspec": {
   "display_name": "ipeo",
   "language": "python",
   "name": "python3"
  },
  "language_info": {
   "codemirror_mode": {
    "name": "ipython",
    "version": 3
   },
   "file_extension": ".py",
   "mimetype": "text/x-python",
   "name": "python",
   "nbconvert_exporter": "python",
   "pygments_lexer": "ipython3",
   "version": "3.9.13"
  },
  "orig_nbformat": 4
 },
 "nbformat": 4,
 "nbformat_minor": 2
}
