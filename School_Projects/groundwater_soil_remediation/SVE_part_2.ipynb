{
 "cells": [
  {
   "attachments": {},
   "cell_type": "markdown",
   "metadata": {},
   "source": [
    "# GWSR Project"
   ]
  },
  {
   "cell_type": "code",
   "execution_count": 422,
   "metadata": {},
   "outputs": [],
   "source": [
    "import numpy as np\n",
    "import pandas as pd\n",
    "import matplotlib.pyplot as plt\n",
    "from tqdm import tqdm\n",
    "\n",
    "import DirtCake as DC"
   ]
  },
  {
   "attachments": {},
   "cell_type": "markdown",
   "metadata": {},
   "source": [
    "## Soil Vapor Extraction"
   ]
  },
  {
   "attachments": {},
   "cell_type": "markdown",
   "metadata": {},
   "source": [
    "First we need to input the assumed parameters or given parameters"
   ]
  },
  {
   "cell_type": "code",
   "execution_count": 423,
   "metadata": {},
   "outputs": [],
   "source": [
    "# assumed\n",
    "R_well = 0.15 # [m]\n",
    "R_inf = 7.5 # [m]\n",
    "Pw = 0.9*101325 # [Pa]\n",
    "temperature = 20 # C\n",
    "\n",
    "# given\n",
    "K = (2e-4 +1.8e-3)/2 # [m/s]\n",
    "u_water = 8.891e-4 # [Ns/m^2]\n",
    "g = 9.81 # [m/s^2]\n",
    "den_water = 997 # [kg/m^3]\n",
    "k = K*u_water/g/den_water # [m^2]\n",
    "u_air = 2.096e-5 #\n",
    "\n"
   ]
  },
  {
   "attachments": {},
   "cell_type": "markdown",
   "metadata": {},
   "source": [
    "Next we need to obtain a dictionary of compound data. The formula to calculate vapour pressure at a temperature is log10(P) = A-(B/(T+C)) where T is in K and Pressure is in bar"
   ]
  },
  {
   "cell_type": "code",
   "execution_count": 424,
   "metadata": {},
   "outputs": [],
   "source": [
    "def get_vap(A, B, C, T):\n",
    "    logP = A-(B/(T+C))\n",
    "    P_bar = 10**logP\n",
    "    P_pa = P_bar*100000\n",
    "    return P_pa\n",
    "\n",
    "def get_KH(KH_i, T_i, T_f):\n",
    "    return KH_i*1.048**(T_f-T_i)"
   ]
  },
  {
   "cell_type": "code",
   "execution_count": 425,
   "metadata": {},
   "outputs": [
    {
     "data": {
      "text/html": [
       "<div>\n",
       "<style scoped>\n",
       "    .dataframe tbody tr th:only-of-type {\n",
       "        vertical-align: middle;\n",
       "    }\n",
       "\n",
       "    .dataframe tbody tr th {\n",
       "        vertical-align: top;\n",
       "    }\n",
       "\n",
       "    .dataframe thead th {\n",
       "        text-align: right;\n",
       "    }\n",
       "</style>\n",
       "<table border=\"1\" class=\"dataframe\">\n",
       "  <thead>\n",
       "    <tr style=\"text-align: right;\">\n",
       "      <th></th>\n",
       "      <th>Compound</th>\n",
       "      <th>molar</th>\n",
       "      <th>KH</th>\n",
       "      <th>KH_T_C</th>\n",
       "      <th>KD</th>\n",
       "      <th>A</th>\n",
       "      <th>B</th>\n",
       "      <th>C</th>\n",
       "      <th>val</th>\n",
       "    </tr>\n",
       "  </thead>\n",
       "  <tbody>\n",
       "    <tr>\n",
       "      <th>0</th>\n",
       "      <td>vinyl chloride</td>\n",
       "      <td>62.498</td>\n",
       "      <td>0.501187</td>\n",
       "      <td>10</td>\n",
       "      <td>8.15</td>\n",
       "      <td>3.98598</td>\n",
       "      <td>892.757</td>\n",
       "      <td>-35.051</td>\n",
       "      <td>NaN</td>\n",
       "    </tr>\n",
       "    <tr>\n",
       "      <th>1</th>\n",
       "      <td>1,2-dichloroethane</td>\n",
       "      <td>98.959</td>\n",
       "      <td>0.010000</td>\n",
       "      <td>10</td>\n",
       "      <td>12.95</td>\n",
       "      <td>4.58518</td>\n",
       "      <td>1521.789</td>\n",
       "      <td>-24.670</td>\n",
       "      <td>NaN</td>\n",
       "    </tr>\n",
       "    <tr>\n",
       "      <th>2</th>\n",
       "      <td>5-CAT</td>\n",
       "      <td>141.598</td>\n",
       "      <td>0.000081</td>\n",
       "      <td>25</td>\n",
       "      <td>48.90</td>\n",
       "      <td>NaN</td>\n",
       "      <td>NaN</td>\n",
       "      <td>NaN</td>\n",
       "      <td>101325.0</td>\n",
       "    </tr>\n",
       "    <tr>\n",
       "      <th>3</th>\n",
       "      <td>cis-1,2-dichloroethene</td>\n",
       "      <td>96.943</td>\n",
       "      <td>0.079433</td>\n",
       "      <td>10</td>\n",
       "      <td>13.25</td>\n",
       "      <td>4.06900</td>\n",
       "      <td>1163.729</td>\n",
       "      <td>-47.174</td>\n",
       "      <td>NaN</td>\n",
       "    </tr>\n",
       "    <tr>\n",
       "      <th>4</th>\n",
       "      <td>trichlorethene</td>\n",
       "      <td>131.388</td>\n",
       "      <td>0.125893</td>\n",
       "      <td>10</td>\n",
       "      <td>20.45</td>\n",
       "      <td>3.55346</td>\n",
       "      <td>974.538</td>\n",
       "      <td>-85.811</td>\n",
       "      <td>NaN</td>\n",
       "    </tr>\n",
       "  </tbody>\n",
       "</table>\n",
       "</div>"
      ],
      "text/plain": [
       "                 Compound    molar        KH  KH_T_C     KD        A  \\\n",
       "0          vinyl chloride   62.498  0.501187      10   8.15  3.98598   \n",
       "1      1,2-dichloroethane   98.959  0.010000      10  12.95  4.58518   \n",
       "2                   5-CAT  141.598  0.000081      25  48.90      NaN   \n",
       "3  cis-1,2-dichloroethene   96.943  0.079433      10  13.25  4.06900   \n",
       "4          trichlorethene  131.388  0.125893      10  20.45  3.55346   \n",
       "\n",
       "          B       C       val  \n",
       "0   892.757 -35.051       NaN  \n",
       "1  1521.789 -24.670       NaN  \n",
       "2       NaN     NaN  101325.0  \n",
       "3  1163.729 -47.174       NaN  \n",
       "4   974.538 -85.811       NaN  "
      ]
     },
     "metadata": {},
     "output_type": "display_data"
    }
   ],
   "source": [
    "comp_data = pd.read_csv('./params.csv')\n",
    "comp_data.loc[2,'val'] = 101325\n",
    "display(comp_data.head())\n",
    "\n",
    "compound_dict = {}\n",
    "for _, row in comp_data.iterrows():\n",
    "    temp_dict = {}\n",
    "    temp_dict['KH'] = get_KH(row.KH, row.KH_T_C, temperature)\n",
    "    temp_dict['KD'] = row.KD\n",
    "    temp_dict['molar'] = row.molar\n",
    "    if np.isnan(row.val):\n",
    "        temp_dict['P_vap'] = get_vap(row.A, row.B, row.C, temperature+273)\n",
    "    else:\n",
    "        temp_dict['P_vap'] = row.val\n",
    "    compound_dict[row.Compound] = temp_dict\n"
   ]
  },
  {
   "attachments": {},
   "cell_type": "markdown",
   "metadata": {},
   "source": [
    "Now to read the csv with all of the data for each stage and level"
   ]
  },
  {
   "cell_type": "code",
   "execution_count": null,
   "metadata": {},
   "outputs": [],
   "source": [
    "sve = pd.read_csv('./SVE_data_part_2.csv')\n",
    "sve.head()"
   ]
  },
  {
   "cell_type": "code",
   "execution_count": 427,
   "metadata": {},
   "outputs": [],
   "source": [
    "row = sve.loc[1,sve.columns]\n",
    "test = DC.DirtLayer(R_inf=R_inf, R_well=R_well, H=row.screen_length, depth = row.depth_bottom-row.depth_top, \n",
    "                    density=row.density, por=row.porosity, por_water=row.por_water, temp=temperature+273, k=k, u=u_air, \n",
    "                    Pw = Pw, intial_concs=row[17:-3].to_dict(), compound_data=compound_dict)"
   ]
  },
  {
   "cell_type": "code",
   "execution_count": 428,
   "metadata": {},
   "outputs": [
    {
     "data": {
      "text/plain": [
       "1,4-dichlorobenzene       2.890269\n",
       "chlorobenzene             0.027055\n",
       "vinyl chloride                 0.0\n",
       "cis-1,2-dichloroethene    0.184242\n",
       "trichlorethene            1.763465\n",
       "Name: 1, dtype: object"
      ]
     },
     "execution_count": 428,
     "metadata": {},
     "output_type": "execute_result"
    }
   ],
   "source": [
    "row[17:-3]"
   ]
  },
  {
   "cell_type": "code",
   "execution_count": 429,
   "metadata": {},
   "outputs": [],
   "source": [
    "data_collection = {}\n",
    "for _, group in sve.groupby('stage'):\n",
    "    levels = []\n",
    "    stg = group.loc[group.index[0],'stage']\n",
    "    for _, row in group.iterrows():\n",
    "        obj = DC.DirtLayer(R_inf=R_inf, R_well=R_well, H=row.screen_length, depth = row.depth_bottom-row.depth_top, \n",
    "                    density=row.density, por=row.porosity, por_water=row.por_water, temp=temperature+273, k=k, u=u_air, \n",
    "                    Pw = Pw, intial_concs=row[16:-2].to_dict(), compound_data=compound_dict)\n",
    "        obj.SVE(365*150, 1)\n",
    "        levels.append([obj.results,obj.Q, obj.dt])\n",
    "    data_collection[stg] = levels"
   ]
  },
  {
   "attachments": {},
   "cell_type": "markdown",
   "metadata": {},
   "source": [
    "now to find out when we beat the regulated values. The data collection is a dictionary holding stages that have a list and a flow rate, the list contains the levels for the stage and their results"
   ]
  },
  {
   "cell_type": "code",
   "execution_count": 430,
   "metadata": {},
   "outputs": [],
   "source": [
    "reg_vals = np.array([0.15, 5000, 5000, 0.3, 7, 30, 0.5])\n",
    "SF = 1.25"
   ]
  },
  {
   "cell_type": "code",
   "execution_count": 431,
   "metadata": {},
   "outputs": [
    {
     "name": "stderr",
     "output_type": "stream",
     "text": [
      "100%|██████████| 3/3 [00:00<00:00, 141.63it/s]\n"
     ]
    }
   ],
   "source": [
    "beat_times = []\n",
    "compound_names = sve.columns[16:-2]\n",
    "\n",
    "for stage, levels in tqdm(data_collection.items()):\n",
    "    for (level, _,_), j in zip(levels,range(len(levels))):\n",
    "        for i in range(len(reg_vals)):\n",
    "            new_row = {}\n",
    "            t = np.argwhere(level[1,i,:]<(reg_vals[i]/SF))\n",
    "            idx = t[0][0] if len(t)>0 else -1\n",
    "            if idx == 0:\n",
    "                t_99 = np.argwhere(level[1,i,:]<0.1)\n",
    "                idx_99 = t_99[0][0] if len(t_99) >0 else -2\n",
    "            else:\n",
    "                t_99 = -1\n",
    "            new_row['stage'] = stage\n",
    "            new_row['level'] = j\n",
    "            new_row['time'] = idx\n",
    "            #new_row['time_99'] = idx_99\n",
    "            new_row['compound'] = compound_names[i]\n",
    "            beat_times.append(new_row)\n"
   ]
  },
  {
   "cell_type": "code",
   "execution_count": null,
   "metadata": {},
   "outputs": [],
   "source": [
    "df = pd.DataFrame(beat_times)\n",
    "df.head()"
   ]
  },
  {
   "cell_type": "code",
   "execution_count": 434,
   "metadata": {},
   "outputs": [
    {
     "data": {
      "text/plain": [
       "2.312841066"
      ]
     },
     "execution_count": 434,
     "metadata": {},
     "output_type": "execute_result"
    }
   ],
   "source": [
    "data_collection[5][0][0][1,6,0]"
   ]
  },
  {
   "attachments": {},
   "cell_type": "markdown",
   "metadata": {},
   "source": [
    "## Activated Carbon 1"
   ]
  },
  {
   "attachments": {},
   "cell_type": "markdown",
   "metadata": {},
   "source": [
    "now we need to see how much flow rate we have to estimate the area needed. first we need to make dictionary with keys that lead to the number of wells for each stage"
   ]
  },
  {
   "cell_type": "code",
   "execution_count": 435,
   "metadata": {},
   "outputs": [],
   "source": [
    "well_dict = {}\n",
    "\n",
    "for idx, group in sve.groupby('stage'):\n",
    "    well_dict[group.stage.values[0]] = group.wells.values[0]"
   ]
  },
  {
   "cell_type": "code",
   "execution_count": 436,
   "metadata": {},
   "outputs": [
    {
     "data": {
      "text/html": [
       "<div>\n",
       "<style scoped>\n",
       "    .dataframe tbody tr th:only-of-type {\n",
       "        vertical-align: middle;\n",
       "    }\n",
       "\n",
       "    .dataframe tbody tr th {\n",
       "        vertical-align: top;\n",
       "    }\n",
       "\n",
       "    .dataframe thead th {\n",
       "        text-align: right;\n",
       "    }\n",
       "</style>\n",
       "<table border=\"1\" class=\"dataframe\">\n",
       "  <thead>\n",
       "    <tr style=\"text-align: right;\">\n",
       "      <th></th>\n",
       "      <th>stage</th>\n",
       "      <th>flow</th>\n",
       "      <th>dt</th>\n",
       "    </tr>\n",
       "  </thead>\n",
       "  <tbody>\n",
       "    <tr>\n",
       "      <th>0</th>\n",
       "      <td>2</td>\n",
       "      <td>57933.210250</td>\n",
       "      <td>1</td>\n",
       "    </tr>\n",
       "    <tr>\n",
       "      <th>1</th>\n",
       "      <td>4</td>\n",
       "      <td>142901.918617</td>\n",
       "      <td>1</td>\n",
       "    </tr>\n",
       "    <tr>\n",
       "      <th>2</th>\n",
       "      <td>5</td>\n",
       "      <td>262311.920477</td>\n",
       "      <td>1</td>\n",
       "    </tr>\n",
       "  </tbody>\n",
       "</table>\n",
       "</div>"
      ],
      "text/plain": [
       "   stage           flow  dt\n",
       "0      2   57933.210250   1\n",
       "1      4  142901.918617   1\n",
       "2      5  262311.920477   1"
      ]
     },
     "execution_count": 436,
     "metadata": {},
     "output_type": "execute_result"
    }
   ],
   "source": [
    "flow_data =[]\n",
    "for stage, item in data_collection.items():\n",
    "    new_row ={}\n",
    "    stage_well_flow = 0\n",
    "    for [dataset, flow, dt] in item:\n",
    "        stage_well_flow += flow\n",
    "    new_row['stage'] = stage\n",
    "    new_row['flow'] = stage_well_flow *well_dict[stage]\n",
    "    new_row['dt'] = dt\n",
    "    flow_data.append(new_row)\n",
    "\n",
    "flow_df = pd.DataFrame(flow_data)\n",
    "flow_df\n",
    "    "
   ]
  },
  {
   "cell_type": "code",
   "execution_count": 437,
   "metadata": {},
   "outputs": [
    {
     "data": {
      "text/plain": [
       "463147.0493438188"
      ]
     },
     "execution_count": 437,
     "metadata": {},
     "output_type": "execute_result"
    }
   ],
   "source": [
    "total_Q = flow_df.flow.sum() # [m^3/day]\n",
    "total_Q"
   ]
  },
  {
   "attachments": {},
   "cell_type": "markdown",
   "metadata": {},
   "source": [
    "assume a bed length of 6m and now that we have the total flow we can figure out a bed area that is required to acheive"
   ]
  },
  {
   "cell_type": "code",
   "execution_count": 438,
   "metadata": {},
   "outputs": [
    {
     "data": {
      "text/plain": [
       "2.5"
      ]
     },
     "execution_count": 438,
     "metadata": {},
     "output_type": "execute_result"
    }
   ],
   "source": [
    "bedL = 6 # [m]\n",
    "v0 = 0.275*60*60*24 # [m/s] -> m/day\n",
    "bed_area = total_Q/v0 # [m^3/day]/m*day -> [m^2]\n",
    "bed_rad = np.ceil(10*(bed_area/np.pi)**0.5)/10\n",
    "bed_rad"
   ]
  },
  {
   "cell_type": "code",
   "execution_count": 439,
   "metadata": {},
   "outputs": [
    {
     "data": {
      "text/plain": [
       "47123.8898038469"
      ]
     },
     "execution_count": 439,
     "metadata": {},
     "output_type": "execute_result"
    }
   ],
   "source": [
    "GAC_m = bedL*np.pi*bed_rad**2 *400 # 400 is bulk density of GAC from lecture slide 44\n",
    "GAC_m # [kg]"
   ]
  },
  {
   "attachments": {},
   "cell_type": "markdown",
   "metadata": {},
   "source": [
    "now to find out how much contaminant each filter can hold if TCE is the main contaminant"
   ]
  },
  {
   "cell_type": "code",
   "execution_count": 440,
   "metadata": {},
   "outputs": [],
   "source": [
    "Ka = 81076\n",
    "nf_inv = 0.526\n",
    "Kdes = 79.8\n",
    "nfd_inv = 1\n",
    "Ce = 2.3e-3/1000 # [mg/m^3]*[1m^3/1000l] -> [mg/l]\n",
    "\n",
    "ad_ratio = Ka*Ce**nf_inv\n",
    "des_ratio = Kdes*Ce**nfd_inv\n",
    "\n",
    "gac_ratio_tce = ad_ratio-des_ratio #[mg/kg]"
   ]
  },
  {
   "attachments": {},
   "cell_type": "markdown",
   "metadata": {},
   "source": [
    "and what if chlorobenzene is the main contaminant"
   ]
  },
  {
   "cell_type": "code",
   "execution_count": 441,
   "metadata": {},
   "outputs": [],
   "source": [
    "qs = 187.2 # [mg/g]\n",
    "Kl = 27.88e-4 # [ppm^-1]\n",
    "C_chloro = 50.05 *24.45/compound_dict['chlorobenzene']['molar'] # ug/m^3 -> ppm\n",
    "gac_ratio_chloro = qs*Kl*C_chloro/(1+Kl*C_chloro)"
   ]
  },
  {
   "cell_type": "code",
   "execution_count": 442,
   "metadata": {},
   "outputs": [
    {
     "name": "stdout",
     "output_type": "stream",
     "text": [
      "3100720.6555608464\n",
      "194644896.82172328\n"
     ]
    }
   ],
   "source": [
    "print(gac_ratio_tce*GAC_m*0.75) # [mg/kg]*[kg]\n",
    "print(gac_ratio_chloro*1000*GAC_m*0.75) # [mg/g]*[1000g/1kg]*[kg]"
   ]
  },
  {
   "attachments": {},
   "cell_type": "markdown",
   "metadata": {},
   "source": [
    "for now we need to get the contaminant concentrations at each timestep to determine if our break through time makes sense. the order of axes is stage, contaminant, time"
   ]
  },
  {
   "cell_type": "code",
   "execution_count": 443,
   "metadata": {},
   "outputs": [],
   "source": [
    "conc_arr = np.zeros((7,item[0][0].shape[1],item[0][0].shape[2]))\n",
    "for stage, item in data_collection.items():\n",
    "    conc_temp = np.zeros(item[0][0].shape[1:])\n",
    "    for [dataset, flow, dt] in item:\n",
    "        conc_temp += dataset[8,:,:]\n",
    "    conc_temp*well_dict[stage]\n",
    "    conc_arr[stage-1,:,:] = conc_temp\n",
    "\n",
    "conc_arr[6,:,:] = conc_arr[:6,:,:].sum(axis=0)"
   ]
  },
  {
   "cell_type": "code",
   "execution_count": 444,
   "metadata": {},
   "outputs": [
    {
     "data": {
      "text/plain": [
       "<matplotlib.legend.Legend at 0x27583d0fe80>"
      ]
     },
     "execution_count": 444,
     "metadata": {},
     "output_type": "execute_result"
    },
    {
     "data": {
      "image/png": "[encoded data removed]",
      "text/plain": [
       "<Figure size 800x400 with 1 Axes>"
      ]
     },
     "metadata": {},
     "output_type": "display_data"
    }
   ],
   "source": [
    "conc_arr_combined = conc_arr.sum(axis=0)\n",
    "conc_arr_combined.shape\n",
    "years = np.linspace(0,(conc_arr_combined.shape[1]-1)/365,conc_arr_combined.shape[1]-1)\n",
    "plt.figure(figsize=(8,4))\n",
    "# for i in range(conc_arr_combined.shape[0]):\n",
    "#     plt.plot(years, conc_arr_combined[i,:-1]/3600/24, label=compound_names[i])\n",
    "\n",
    "# plt.plot(years, conc_arr_combined[:,:-1].sum(axis=0)/3600/24, label='total', color='k')\n",
    "plt.plot(years, conc_arr_combined[-1,:-1], label = compound_names[-1])\n",
    "plt.xlabel('Years')\n",
    "plt.ylabel('Mass Flow Rate [mg/s]')\n",
    "plt.legend()\n",
    "#conc_arr.sum(axis=0).sum(axis=0)"
   ]
  },
  {
   "cell_type": "code",
   "execution_count": 445,
   "metadata": {},
   "outputs": [
    {
     "data": {
      "text/plain": [
       "[1459, 2998, 13932]"
      ]
     },
     "execution_count": 445,
     "metadata": {},
     "output_type": "execute_result"
    }
   ],
   "source": [
    "total_gas_flow = conc_arr_combined.sum(axis=0)\n",
    "filter_data = []\n",
    "gac_adsorp_chloro = gac_ratio_chloro*1000*GAC_m*0.75\n",
    "gac_adsorp_tce = gac_ratio_tce*GAC_m*0.75\n",
    "filter_mass = 0\n",
    "for i in range(len(total_gas_flow)):\n",
    "    if i<4*365:\n",
    "        full = gac_adsorp_chloro\n",
    "    else:\n",
    "        full = gac_adsorp_tce\n",
    "    \n",
    "    filter_mass+=total_gas_flow[i]\n",
    "    if filter_mass>full:\n",
    "        filter_data.append(i-1)\n",
    "        filter_mass=0\n",
    "\n",
    "    \n",
    "filter_data"
   ]
  },
  {
   "attachments": {},
   "cell_type": "markdown",
   "metadata": {},
   "source": [
    "Time to export some data"
   ]
  },
  {
   "cell_type": "code",
   "execution_count": 446,
   "metadata": {},
   "outputs": [],
   "source": [
    "mapper = {\n",
    "    0:compound_names[0],\n",
    "    1:compound_names[1],\n",
    "    2:compound_names[2],\n",
    "    3:compound_names[3],\n",
    "    4:compound_names[4],\n",
    "    5:compound_names[5],\n",
    "    6:compound_names[6],\n",
    "\n",
    "}\n",
    "for stage, item in data_collection.items():\n",
    "    stageframe = []\n",
    "    for [dataset, flow, dt] in item:\n",
    "        stageframe.append(pd.DataFrame(dataset[1,:,-1]).to_dict()[0])\n",
    "    pd.DataFrame(stageframe).rename(columns=mapper).to_csv(f'./sve_3/{stage}.csv')"
   ]
  }
 ],
 "metadata": {
  "kernelspec": {
   "display_name": "ipeo",
   "language": "python",
   "name": "python3"
  },
  "language_info": {
   "codemirror_mode": {
    "name": "ipython",
    "version": 3
   },
   "file_extension": ".py",
   "mimetype": "text/x-python",
   "name": "python",
   "nbconvert_exporter": "python",
   "pygments_lexer": "ipython3",
   "version": "3.9.13"
  },
  "orig_nbformat": 4
 },
 "nbformat": 4,
 "nbformat_minor": 2
}
