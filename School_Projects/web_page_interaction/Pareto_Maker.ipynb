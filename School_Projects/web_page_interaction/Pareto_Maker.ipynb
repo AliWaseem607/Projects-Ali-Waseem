{
 "cells": [
  {
   "cell_type": "code",
   "execution_count": 118,
   "metadata": {},
   "outputs": [],
   "source": [
    "import pandas as pd\n",
    "import os\n",
    "import zipfile as zf\n",
    "import openpyxl as pxl\n",
    "from numpy import linspace\n",
    "from selenium import webdriver\n",
    "from selenium.webdriver.common.by import By\n",
    "import time\n",
    "from tqdm import tqdm\n",
    "import matplotlib.pyplot as plt\n",
    "%matplotlib inline"
   ]
  },
  {
   "cell_type": "code",
   "execution_count": null,
   "metadata": {},
   "outputs": [],
   "source": [
    "wrkbk = pxl.load_workbook('./EC_interface_2050.xlsx')\n",
    "cntrl = wrkbk['Control']\n",
    "\n",
    "wrkbk_1 = wrkbk\n",
    "wrkbk_1['Control']['B1'] = 'OPEX'\n",
    "\n",
    "wrkbk_1.save('./test.xlsx')\n"
   ]
  },
  {
   "cell_type": "markdown",
   "metadata": {},
   "source": [
    "First we will load the results files with the two ends of the Capex vs Opex Results"
   ]
  },
  {
   "cell_type": "code",
   "execution_count": 72,
   "metadata": {},
   "outputs": [],
   "source": [
    "def get_info(path):\n",
    "    folder = zf.ZipFile(path,'r')\n",
    "    file = folder.open('performance.csv')\n",
    "    df = pd.read_csv(file, delimiter=r'\\t', engine='python')\n",
    "    row = {\n",
    "        'CAPEX':df.loc[df.Indicator == 'CAPEX']['Value [MCHF/y]'].values[0],\n",
    "        'OPEX':df.loc[df.Indicator == 'OPEX']['Value [MCHF/y]'].values[0],\n",
    "        'TOTEX':df.loc[df.Indicator == 'TOTEX']['Value [MCHF/y]'].values[0],\n",
    "        'GWP_op':df.loc[df.Indicator == 'GWP_op']['Value [MCHF/y]'].values[0],\n",
    "        'GWP_total':df.loc[df.Indicator == 'GWP_total']['Value [MCHF/y]'].values[0],\n",
    "    }\n",
    "    return row\n"
   ]
  },
  {
   "cell_type": "code",
   "execution_count": null,
   "metadata": {},
   "outputs": [],
   "source": [
    "for root, dirs, files in os.walk('./Pareto_Front/'):\n",
    "    print(files)\n"
   ]
  },
  {
   "cell_type": "code",
   "execution_count": null,
   "metadata": {},
   "outputs": [],
   "source": [
    "cost_H_high = 3.3*0.94/33 #[USD/kg]*[CHF/USD]/[kWh/kg_H] = [CHF/kWh]\n",
    "cost_H_low = 1.3*0.94/33 #[USD/kg]*[CHF/USD]/[kWh/kg_H] = [CHF/kWh]\n",
    "H_range = linspace(cost_H_low,cost_H_high,num=4).tolist()\n",
    "H_range = [0] + H_range\n",
    "H_range"
   ]
  },
  {
   "cell_type": "code",
   "execution_count": null,
   "metadata": {},
   "outputs": [],
   "source": [
    "site = 'https://ipese-lectures.epfl.ch/energy-conversion/project/'\n",
    "\n",
    "from selenium import webdriver\n",
    "from selenium.webdriver.common.by import By\n",
    "import time\n",
    "  \n",
    "# Create the webdriver object. Here the \n",
    "# chromedriver is present in the driver \n",
    "# folder of the root directory.\n",
    "driver = webdriver.Chrome(r\"./driver/chromedriver\")\n",
    "  \n",
    "# get https://www.geeksforgeeks.org/\n",
    "driver.get(site)\n",
    "  \n",
    "# Maximize the window and let code stall \n",
    "# for 10s to properly maximise the window.\n",
    "driver.maximize_window()\n",
    "time.sleep(10)\n",
    "  \n",
    "# Obtain button by link text and click.\n",
    "upload_excel = driver.find_element(By.XPATH,\n",
    "'/html/body/div[2]/div/div[1]/div/div/main/div/div/div[1]/div[2]/div/div[1]/div/div/input').send_keys(\n",
    "    r'C:\\Users\\aliwa\\ECRE2022\\ECRE\\Milestone 2\\Question 4\\EC_interface_2050.xlsx'\n",
    ")\n",
    "\n",
    "#download = driver.find_element(By.XPATH,\n"
   ]
  },
  {
   "cell_type": "code",
   "execution_count": null,
   "metadata": {},
   "outputs": [],
   "source": [
    "download = driver.find_element(By.XPATH,\n",
    "    '/html/body/div[2]/div/div[1]/div/div/main/div/div/div[1]/div[5]/div/div[3]/a')\n",
    "download.click()"
   ]
  },
  {
   "cell_type": "code",
   "execution_count": null,
   "metadata": {},
   "outputs": [],
   "source": [
    "buttons = driver.find_element(By.ID)"
   ]
  },
  {
   "cell_type": "code",
   "execution_count": null,
   "metadata": {},
   "outputs": [],
   "source": [
    "source_path = r'C:\\Users\\aliwa\\Downloads\\Gold_results.zip'\n",
    "destination_path = r'C:\\Users\\aliwa\\ECRE2022\\ECRE\\Milestone 2\\Question 4\\Gold_results.zip'\n",
    "os.rename(source_path,destination_path)"
   ]
  },
  {
   "cell_type": "markdown",
   "metadata": {},
   "source": [
    "This is where the code will start\n",
    "\n",
    "First we will make all of the file folders with the open capex and opex files and a results file to collect the results"
   ]
  },
  {
   "cell_type": "code",
   "execution_count": null,
   "metadata": {},
   "outputs": [],
   "source": [
    "cost_H_high = 3.3*0.94/33 #[USD/kg]*[CHF/USD]/[kWh/kg_H] = [CHF/kWh]\n",
    "cost_H_low = 1.3*0.94/33 #[USD/kg]*[CHF/USD]/[kWh/kg_H] = [CHF/kWh]\n",
    "H_range = linspace(cost_H_low,cost_H_high,num=4).tolist()\n",
    "\n",
    "#create the hydrogen varied excels\n",
    "for x in H_range:\n",
    "    value = round(x,4)\n",
    "    folder = f'hydrogen_{value}'\n",
    "    wrkbk = pxl.load_workbook('./EC_interface_2050.xlsx')\n",
    "    wrkbk_1 = wrkbk\n",
    "    wrkbk_1['Control']['B1'] = 'OPEX'\n",
    "    wrkbk_1['Resources']['C14'] = 100000\n",
    "    wrkbk_1['Resources']['D14'] = value\n",
    "    file_path = f'./Pareto_Front/{folder}'\n",
    "    if not os.path.isdir(file_path):\n",
    "        os.makedirs(file_path)\n",
    "        os.makedirs(file_path+'/results')\n",
    "    wrkbk_1.save(f'./Pareto_Front/{folder}/EC_2050_hydrogen_{value}_OPEX_open.xlsx')\n",
    "    wrkbk_1 = wrkbk\n",
    "    wrkbk_1['Control']['B1'] = 'CAPEX'\n",
    "    wrkbk_1['Resources']['C14'] = 100000\n",
    "    wrkbk_1['Resources']['D14'] = value\n",
    "    wrkbk_1.save(f'./Pareto_Front/{folder}/EC_2050_hydrogen_{value}_CAPEX_open.xlsx')"
   ]
  },
  {
   "cell_type": "markdown",
   "metadata": {},
   "source": [
    "Now we will define a function that given a driver will upload, download and transfer a file to the required folder"
   ]
  },
  {
   "cell_type": "code",
   "execution_count": null,
   "metadata": {},
   "outputs": [],
   "source": [
    "site = 'https://ipese-lectures.epfl.ch/energy-conversion/project/'\n",
    "\n",
    "driver = webdriver.Chrome(r\"./driver/chromedriver\")\n",
    "driver.get(site)\n",
    "driver.maximize_window()\n",
    "time.sleep(10)\n",
    "\n",
    "for folder in os.listdir('./Pareto_Front/'):\n",
    "    results_path = (os.getcwd().replace('\\\\', '/')+f'/Pareto_Front/{folder}/results/').replace('c:/','C:/' )\n",
    "    for file in os.listdir(f'./Pareto_Front/{folder}/'):\n",
    "        if os.path.isfile(f'./Pareto_Front/{folder}/{file}'):\n",
    "            file_path = (os.getcwd()+f'\\\\Pareto_Front\\\\{folder}\\\\{file}').replace('c:\\\\','C:\\\\' )\n",
    "            file_name = file.strip('.xlsx')\n",
    "            download_path = f'C:/Users/aliwa/Downloads/{file_name}_results.zip'\n",
    "            print(file_path)\n",
    "            print(results_path)\n",
    "            print(file_name)\n",
    "            print(download_path)\n",
    "            time.sleep(2)\n",
    "            input_name = driver.find_element(By.ID, 'project-name-input').clear()\n",
    "            input_name = driver.find_element(By.ID, 'project-name-input').send_keys(file_name)\n",
    "            time.sleep(1)\n",
    "            upload_excel = driver.find_element(By.XPATH,\n",
    "                '/html/body/div[2]/div/div[1]/div/div/main/div/div/div[1]/div[2]/div/div[1]/div/div/input').send_keys(file_path)\n",
    "                #'/html/body/div[2]/div/div[1]/div/div/main/div/div/div[1]/div[2]/div/div[1]/div/div/button\n",
    "                #'/html/body/div[2]/div/div[1]/div/div/main/div/div/div[1]/div[2]/div/div[1]/div/div/input\n",
    "            time.sleep(12)\n",
    "\n",
    "            download = driver.find_element(By.XPATH,\n",
    "                '/html/body/div[2]/div/div[1]/div/div/main/div/div/div[1]/div[5]/div/div[3]/a')\n",
    "            download.click()\n",
    "            time.sleep(5)\n",
    "            os.rename(download_path,results_path+file_name+'_results.zip')\n",
    "\n"
   ]
  },
  {
   "cell_type": "markdown",
   "metadata": {},
   "source": [
    "Make another directory for the other files"
   ]
  },
  {
   "cell_type": "code",
   "execution_count": 59,
   "metadata": {},
   "outputs": [],
   "source": [
    "for folder in os.listdir('./Pareto_Front/'):\n",
    "    if not os.path.exists(os.getcwd()+f'\\\\Pareto_Front\\\\{folder}\\\\results_con\\\\'):\n",
    "        os.mkdir(os.getcwd()+f'\\\\Pareto_Front\\\\{folder}\\\\results_con\\\\')\n"
   ]
  },
  {
   "cell_type": "markdown",
   "metadata": {},
   "source": [
    "Now we have to read and make the new excel files"
   ]
  },
  {
   "cell_type": "code",
   "execution_count": 100,
   "metadata": {},
   "outputs": [
    {
     "name": "stderr",
     "output_type": "stream",
     "text": [
      "c:\\Users\\aliwa\\anaconda3\\lib\\site-packages\\openpyxl\\worksheet\\_reader.py:312: UserWarning: Data Validation extension is not supported and will be removed\n",
      "  warn(msg)\n"
     ]
    }
   ],
   "source": [
    "\n",
    "for folder in os.listdir('./Pareto_Front/'):\n",
    "    data = []\n",
    "    for folder_2 in os.listdir(os.getcwd()+f'\\\\Pareto_Front\\\\{folder}\\\\results\\\\'):\n",
    "        data.append(get_info(os.getcwd()+f'\\\\Pareto_Front\\\\{folder}\\\\results\\\\{folder_2}'))\n",
    "    df = pd.DataFrame(data)\n",
    "    Capex_max = float(df.CAPEX.max())\n",
    "    Capex_min = float(df.CAPEX.min())\n",
    "    Opex_max = float(df.OPEX.max())\n",
    "    Opex_min = float(df.OPEX.min())\n",
    "    cap_range = linspace(Capex_min,Capex_max,num=7).tolist()[1:-1]\n",
    "    op_range = linspace(Opex_min,Opex_max,num=7).tolist()[1:-1]\n",
    "\n",
    "    #create the hydrogen varied excels EC_2050_hydrogen_0.037_CAPEX_open.xlsx\n",
    "    for x in cap_range:\n",
    "        value = int(x)\n",
    "        wrkbk = pxl.load_workbook(f'./Pareto_Front/{folder}/EC_2050_{folder}_OPEX_open.xlsx')\n",
    "        wrkbk_1 = wrkbk\n",
    "        wrkbk_1['Control']['B4'] = value\n",
    "        file_path = f'./Pareto_Front/{folder}'\n",
    "        if not os.path.isdir(f'./Pareto_Front/{folder}/constrained'):\n",
    "            os.makedirs(f'./Pareto_Front/{folder}/constrained')\n",
    "        wrkbk_1.save(f'./Pareto_Front/{folder}/constrained/EC_2050_{folder}_OPEX_open_CAPEX_{value}.xlsx')\n",
    "    \n",
    "    for x in op_range:\n",
    "        value = int(x)\n",
    "        wrkbk = pxl.load_workbook(f'./Pareto_Front/{folder}/EC_2050_{folder}_CAPEX_open.xlsx')\n",
    "        wrkbk_1 = wrkbk\n",
    "        wrkbk_1['Control']['B5'] = value\n",
    "        file_path = f'./Pareto_Front/{folder}'\n",
    "        if not os.path.isdir(f'./Pareto_Front/{folder}/constrained'):\n",
    "            os.makedirs(f'./Pareto_Front/{folder}/constrained')\n",
    "        wrkbk_1.save(f'./Pareto_Front/{folder}/constrained/EC_2050_{folder}_CAPEX_open_OPEX_{value}.xlsx')\n"
   ]
  },
  {
   "cell_type": "markdown",
   "metadata": {},
   "source": [
    "Now that we have all of the files created we need to run them through the web interface, we can run similar code as before"
   ]
  },
  {
   "cell_type": "code",
   "execution_count": 104,
   "metadata": {},
   "outputs": [
    {
     "name": "stderr",
     "output_type": "stream",
     "text": [
      "C:\\Users\\aliwa\\AppData\\Local\\Temp\\ipykernel_8324\\3862136078.py:4: DeprecationWarning: executable_path has been deprecated, please pass in a Service object\n",
      "  driver = webdriver.Chrome(r\"./driver/chromedriver\")\n",
      "100%|██████████| 10/10 [02:25<00:00, 14.52s/it]\n",
      "100%|██████████| 10/10 [02:35<00:00, 15.58s/it]\n",
      "100%|██████████| 10/10 [02:17<00:00, 13.75s/it]\n",
      "100%|██████████| 10/10 [02:20<00:00, 14.04s/it]\n",
      "100%|██████████| 10/10 [02:12<00:00, 13.20s/it]\n"
     ]
    }
   ],
   "source": [
    "from tqdm import tqdm\n",
    "site = 'https://ipese-lectures.epfl.ch/energy-conversion/project/'\n",
    "\n",
    "driver = webdriver.Chrome(r\"./driver/chromedriver\")\n",
    "driver.get(site)\n",
    "driver.maximize_window()\n",
    "time.sleep(10)\n",
    "\n",
    "for folder in os.listdir('./Pareto_Front/'):\n",
    "    results_path = (os.getcwd().replace('\\\\', '/')+f'/Pareto_Front/{folder}/results_con/').replace('c:/','C:/' )\n",
    "    for file in tqdm(os.listdir(f'./Pareto_Front/{folder}/constrained/')):\n",
    "        if os.path.isfile(f'./Pareto_Front/{folder}/constrained/{file}'):\n",
    "            file_path = (os.getcwd()+f'\\\\Pareto_Front\\\\{folder}\\\\constrained\\\\{file}').replace('c:\\\\','C:\\\\' )\n",
    "            file_name = file.strip('.xlsx')\n",
    "            download_path = f'C:/Users/aliwa/Downloads/{file_name}_results.zip'\n",
    "            # print(file_path)\n",
    "            # print(results_path)\n",
    "            # print(file_name)\n",
    "            # print(download_path)\n",
    "            time.sleep(2)\n",
    "            input_name = driver.find_element(By.ID, 'project-name-input').clear()\n",
    "            input_name = driver.find_element(By.ID, 'project-name-input').send_keys(file_name)\n",
    "            time.sleep(1)\n",
    "            upload_excel = driver.find_element(By.XPATH,\n",
    "                '/html/body/div[2]/div/div[1]/div/div/main/div/div/div[1]/div[2]/div/div[1]/div/div/input').send_keys(file_path)\n",
    "                #'/html/body/div[2]/div/div[1]/div/div/main/div/div/div[1]/div[2]/div/div[1]/div/div/button\n",
    "                #'/html/body/div[2]/div/div[1]/div/div/main/div/div/div[1]/div[2]/div/div[1]/div/div/input\n",
    "            cont = input('cont?')\n",
    "\n",
    "            download = driver.find_element(By.XPATH,\n",
    "                '/html/body/div[2]/div/div[1]/div/div/main/div/div/div[1]/div[5]/div/div[3]/a')\n",
    "            download.click()\n",
    "            time.sleep(3)\n",
    "            os.rename(download_path,results_path+file_name+'_results.zip')\n",
    "\n"
   ]
  },
  {
   "cell_type": "markdown",
   "metadata": {},
   "source": [
    "Now that we have all of the data all that is left to do is make the fronts!"
   ]
  },
  {
   "cell_type": "code",
   "execution_count": 138,
   "metadata": {},
   "outputs": [
    {
     "data": {
      "text/html": [
       "<div>\n",
       "<style scoped>\n",
       "    .dataframe tbody tr th:only-of-type {\n",
       "        vertical-align: middle;\n",
       "    }\n",
       "\n",
       "    .dataframe tbody tr th {\n",
       "        vertical-align: top;\n",
       "    }\n",
       "\n",
       "    .dataframe thead th {\n",
       "        text-align: right;\n",
       "    }\n",
       "</style>\n",
       "<table border=\"1\" class=\"dataframe\">\n",
       "  <thead>\n",
       "    <tr style=\"text-align: right;\">\n",
       "      <th></th>\n",
       "      <th>CAPEX</th>\n",
       "      <th>OPEX</th>\n",
       "      <th>TOTEX</th>\n",
       "      <th>GWP_op</th>\n",
       "      <th>GWP_total</th>\n",
       "      <th>simulation</th>\n",
       "    </tr>\n",
       "  </thead>\n",
       "  <tbody>\n",
       "    <tr>\n",
       "      <th>0</th>\n",
       "      <td>6913.87</td>\n",
       "      <td>13463.00</td>\n",
       "      <td>20376.87</td>\n",
       "      <td>21927.55</td>\n",
       "      <td>22729.85</td>\n",
       "      <td>Hydrogen 0.037</td>\n",
       "    </tr>\n",
       "    <tr>\n",
       "      <th>1</th>\n",
       "      <td>6887.22</td>\n",
       "      <td>18082.00</td>\n",
       "      <td>24969.22</td>\n",
       "      <td>27828.60</td>\n",
       "      <td>28628.00</td>\n",
       "      <td>Hydrogen 0.037</td>\n",
       "    </tr>\n",
       "    <tr>\n",
       "      <th>2</th>\n",
       "      <td>6887.22</td>\n",
       "      <td>22676.25</td>\n",
       "      <td>29563.47</td>\n",
       "      <td>31270.38</td>\n",
       "      <td>32069.79</td>\n",
       "      <td>Hydrogen 0.037</td>\n",
       "    </tr>\n",
       "    <tr>\n",
       "      <th>3</th>\n",
       "      <td>6887.22</td>\n",
       "      <td>27319.00</td>\n",
       "      <td>34206.22</td>\n",
       "      <td>35784.66</td>\n",
       "      <td>36584.06</td>\n",
       "      <td>Hydrogen 0.037</td>\n",
       "    </tr>\n",
       "    <tr>\n",
       "      <th>4</th>\n",
       "      <td>7096.03</td>\n",
       "      <td>8845.00</td>\n",
       "      <td>15941.03</td>\n",
       "      <td>17333.82</td>\n",
       "      <td>18154.40</td>\n",
       "      <td>Hydrogen 0.037</td>\n",
       "    </tr>\n",
       "  </tbody>\n",
       "</table>\n",
       "</div>"
      ],
      "text/plain": [
       "     CAPEX      OPEX     TOTEX    GWP_op GWP_total      simulation\n",
       "0  6913.87  13463.00  20376.87  21927.55  22729.85  Hydrogen 0.037\n",
       "1  6887.22  18082.00  24969.22  27828.60  28628.00  Hydrogen 0.037\n",
       "2  6887.22  22676.25  29563.47  31270.38  32069.79  Hydrogen 0.037\n",
       "3  6887.22  27319.00  34206.22  35784.66  36584.06  Hydrogen 0.037\n",
       "4  7096.03   8845.00  15941.03  17333.82  18154.40  Hydrogen 0.037"
      ]
     },
     "execution_count": 138,
     "metadata": {},
     "output_type": "execute_result"
    }
   ],
   "source": [
    "data = []\n",
    "for folder in os.listdir('./Pareto_Front/'):\n",
    "    for folder_2 in os.listdir(f'./Pareto_Front/{folder}/results_con'):\n",
    "        row = get_info(os.getcwd()+f'\\\\Pareto_Front\\\\{folder}\\\\results_con\\\\{folder_2}')\n",
    "        row['simulation'] = folder.title().replace('_',' ')\n",
    "        data.append(row)\n",
    "    for folder_3 in os.listdir(f'./Pareto_Front/{folder}/results'):\n",
    "        row = get_info(os.getcwd()+f'\\\\Pareto_Front\\\\{folder}\\\\results\\\\{folder_3}')\n",
    "        row['simulation'] = folder.title().replace('_',' ')\n",
    "        data.append(row)\n",
    "\n",
    "df = pd.DataFrame(data)\n",
    "df.head()"
   ]
  },
  {
   "cell_type": "markdown",
   "metadata": {},
   "source": [
    "Now that we have the data all that is left (thankfully) is to make it into a figure!"
   ]
  },
  {
   "cell_type": "code",
   "execution_count": 178,
   "metadata": {},
   "outputs": [
    {
     "data": {
      "image/png": "[encoded data removed]",
      "text/plain": [
       "<Figure size 720x432 with 1 Axes>"
      ]
     },
     "metadata": {
      "needs_background": "light"
     },
     "output_type": "display_data"
    }
   ],
   "source": [
    "for col in ['CAPEX','OPEX','TOTEX','GWP_op','GWP_total']:\n",
    "    df[col] =pd.to_numeric(df[col])\n",
    "\n",
    "\n",
    "sims = df.loc[df.simulation.isin(['Hydrogen 0.037', 'Hydrogen 0.094', 'Without Hydrogen'])].groupby('simulation')\n",
    "\n",
    "plt.figure(figsize=(10,6))\n",
    "plt.xlabel('OPEX [CHF/year]')\n",
    "plt.ylabel('CAPEX [CHF]')\n",
    "\n",
    "for sim, data in sims:\n",
    "    fig = plt.scatter(x=data.OPEX, y=data.CAPEX)\n",
    "    fig.set_label(sim)\n",
    "plt.legend()\n",
    "plt.savefig('./Pareto_Front.png')"
   ]
  },
  {
   "cell_type": "code",
   "execution_count": 179,
   "metadata": {},
   "outputs": [
    {
     "name": "stdout",
     "output_type": "stream",
     "text": [
      "0.094 0.03703030303030303\n"
     ]
    }
   ],
   "source": [
    "cost_H_high = 3.3*0.94/33 #[USD/kg]*[CHF/USD]/[kWh/kg_H] = [CHF/kWh]\n",
    "cost_H_low = 1.3*0.94/33 #[USD/kg]*[CHF/USD]/[kWh/kg_H] = [CHF/kWh]\n",
    "\n",
    "print(cost_H_high, cost_H_low)"
   ]
  }
 ],
 "metadata": {
  "kernelspec": {
   "display_name": "Python 3.9.12 ('base')",
   "language": "python",
   "name": "python3"
  },
  "language_info": {
   "codemirror_mode": {
    "name": "ipython",
    "version": 3
   },
   "file_extension": ".py",
   "mimetype": "text/x-python",
   "name": "python",
   "nbconvert_exporter": "python",
   "pygments_lexer": "ipython3",
   "version": "3.9.12"
  },
  "orig_nbformat": 4,
  "vscode": {
   "interpreter": {
    "hash": "ffe78d3011582e93732d41361e262d52dfd2e5fd6fc55e676e876753b981662d"
   }
  }
 },
 "nbformat": 4,
 "nbformat_minor": 2
}
